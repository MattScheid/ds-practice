{
 "cells": [
  {
   "cell_type": "markdown",
   "id": "3b9dde43",
   "metadata": {},
   "source": [
    "# Interview Practice Notebook\n",
    "\n",
    "Welcome to your interactive interview prep tool!  \n",
    "\n",
    "This notebook lets you:\n",
    "- Load and save a **bank of interview questions** (`data/questions.json`).\n",
    "- Select questions at random or by category (ML, SQL, Stats, Leadership).\n",
    "- Write your answer in the next cell.\n",
    "- Compare your answer against a **reference solution** using:\n",
    "  - ✅ Exact match\n",
    "  - 🔍 Substring match\n",
    "  - 🤖 Semantic similarity (with embeddings)\n",
    "- Track your **progress and accuracy** across sessions.\n",
    "\n",
    "---\n",
    "\n",
    "## How to Use\n",
    "\n",
    "1. **Initialize the class**  \n",
    "   ```python\n",
    "   from src.interview_practice import InterviewPractice\n",
    "\n",
    "   practice = InterviewPractice()\n",
    "   practice.load(\"../data/questions.json\")\n"
   ]
  },
  {
   "cell_type": "code",
   "execution_count": 17,
   "id": "23b3176a",
   "metadata": {},
   "outputs": [],
   "source": [
    "import sys, os\n",
    "sys.path.append(os.path.abspath(\"../src\"))"
   ]
  },
  {
   "cell_type": "code",
   "execution_count": 18,
   "id": "e3f5d6f1",
   "metadata": {},
   "outputs": [],
   "source": [
    "from interview_practice import InterviewPractice"
   ]
  },
  {
   "cell_type": "code",
   "execution_count": 19,
   "id": "37d1d3d3",
   "metadata": {},
   "outputs": [],
   "source": [
    "practice = InterviewPractice()\n",
    "practice.load(\"../data/questions.json\")   # Load persistent Q&A bank"
   ]
  },
  {
   "cell_type": "code",
   "execution_count": 22,
   "id": "b5b5f8db",
   "metadata": {},
   "outputs": [
    {
     "data": {
      "text/markdown": [
       "### ❓ Question\n",
       "\n",
       "    Say you roll a die three times. What is the probability of getting two sixes in a row?\n",
       "    "
      ],
      "text/plain": [
       "<IPython.core.display.Markdown object>"
      ]
     },
     "metadata": {},
     "output_type": "display_data"
    }
   ],
   "source": [
    "q = practice.get_question(-1)"
   ]
  },
  {
   "cell_type": "code",
   "execution_count": 24,
   "id": "becd2f67",
   "metadata": {},
   "outputs": [],
   "source": [
    "answer = \"\"\"\n",
    "There are 3 ways to get a dice to roll two 6's consecutively with 3 rolls.\n",
    "We need to consider those possibilities.\n",
    "(1/6) * (1/6) * (5/6) = 5/216\n",
    "(5/6) * (1/6) * (1/6) = 5/216\n",
    "(1/6) * (1/6) * (1/6) = 1/216\n",
    "So the total probability is 111/216 = 0.5138\n",
    "\"\"\""
   ]
  },
  {
   "cell_type": "code",
   "execution_count": 25,
   "id": "afbf9f40",
   "metadata": {},
   "outputs": [
    {
     "data": {
      "text/markdown": [
       "### 📝 Your Answer\n",
       "\n",
       "There are 3 ways to get a dice to roll two 6's consecutively with 3 rolls.\n",
       "We need to consider those possibilities.\n",
       "(1/6) * (1/6) * (5/6) = 5/216\n",
       "(5/6) * (1/6) * (1/6) = 5/216\n",
       "(1/6) * (1/6) * (1/6) = 1/216\n",
       "So the total probability is 111/216 = 0.5138\n"
      ],
      "text/plain": [
       "<IPython.core.display.Markdown object>"
      ]
     },
     "metadata": {},
     "output_type": "display_data"
    },
    {
     "data": {
      "text/markdown": [
       "### ✅ Reference Answer\n",
       "\n",
       "    There are three ways to get two 6's consecutively on 3 dice rolls. \n",
       "    The pair either happens on rolls 1 and 2, or 2 and 3, or else all three are 6's. \n",
       "    In the first case with exactly two 6's, the probability is given by:\n",
       "    2 * (1/6) * (1/6) * (5/6) = 10/216\n",
       "    In the second case, the probability of all three rolls being 6's is given by:\n",
       "    (1/6) * (1/6) * (1/6) = 1/216\n",
       "    Adding these two cases together, we get a total probability of 11/216.\n",
       "    "
      ],
      "text/plain": [
       "<IPython.core.display.Markdown object>"
      ]
     },
     "metadata": {},
     "output_type": "display_data"
    },
    {
     "data": {
      "text/markdown": [
       "**Category:** Probability"
      ],
      "text/plain": [
       "<IPython.core.display.Markdown object>"
      ]
     },
     "metadata": {},
     "output_type": "display_data"
    },
    {
     "data": {
      "text/markdown": [
       "**Semantic similarity score:** 0.94"
      ],
      "text/plain": [
       "<IPython.core.display.Markdown object>"
      ]
     },
     "metadata": {},
     "output_type": "display_data"
    },
    {
     "data": {
      "text/markdown": [
       "**Result:** ✔️ Correct"
      ],
      "text/plain": [
       "<IPython.core.display.Markdown object>"
      ]
     },
     "metadata": {},
     "output_type": "display_data"
    },
    {
     "data": {
      "text/plain": [
       "(True, 0.9409465789794922)"
      ]
     },
     "execution_count": 25,
     "metadata": {},
     "output_type": "execute_result"
    }
   ],
   "source": [
    "practice.check_answer(answer)"
   ]
  },
  {
   "cell_type": "code",
   "execution_count": null,
   "id": "4ae23642",
   "metadata": {},
   "outputs": [],
   "source": []
  }
 ],
 "metadata": {
  "kernelspec": {
   "display_name": "ds-practice",
   "language": "python",
   "name": "ds-practice"
  },
  "language_info": {
   "codemirror_mode": {
    "name": "ipython",
    "version": 3
   },
   "file_extension": ".py",
   "mimetype": "text/x-python",
   "name": "python",
   "nbconvert_exporter": "python",
   "pygments_lexer": "ipython3",
   "version": "3.13.7"
  }
 },
 "nbformat": 4,
 "nbformat_minor": 5
}
