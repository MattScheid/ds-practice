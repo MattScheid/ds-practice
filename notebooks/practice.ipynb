{
 "cells": [
  {
   "cell_type": "markdown",
   "id": "3b9dde43",
   "metadata": {},
   "source": [
    "# Interview Practice Notebook\n",
    "\n",
    "Welcome to your interactive interview prep tool!  \n",
    "\n",
    "This notebook lets you:\n",
    "- Load and save a **bank of interview questions** (`data/questions.json`).\n",
    "- Select questions at random or by category (ML, SQL, Stats, Leadership).\n",
    "- Write your answer in the next cell.\n",
    "- Compare your answer against a **reference solution** using:\n",
    "  - ✅ Exact match\n",
    "  - 🔍 Substring match\n",
    "  - 🤖 Semantic similarity (with embeddings)\n",
    "- Track your **progress and accuracy** across sessions.\n",
    "\n",
    "---\n",
    "\n",
    "## How to Use\n",
    "\n",
    "1. **Initialize the class**  \n",
    "   ```python\n",
    "   from src.interview_practice import InterviewPractice\n",
    "\n",
    "   practice = InterviewPractice()\n",
    "   practice.load(\"../data/questions.json\")\n"
   ]
  },
  {
   "cell_type": "code",
   "execution_count": 1,
   "id": "23b3176a",
   "metadata": {},
   "outputs": [],
   "source": [
    "import sys, os\n",
    "sys.path.append(os.path.abspath(\"../src\"))"
   ]
  },
  {
   "cell_type": "code",
   "execution_count": 2,
   "id": "e3f5d6f1",
   "metadata": {},
   "outputs": [],
   "source": [
    "from interview_practice import InterviewPractice"
   ]
  },
  {
   "cell_type": "code",
   "execution_count": 5,
   "id": "37d1d3d3",
   "metadata": {},
   "outputs": [],
   "source": [
    "practice = InterviewPractice()\n",
    "practice.load(\"../data/questions.json\")   # Load persistent Q&A bank"
   ]
  },
  {
   "cell_type": "code",
   "execution_count": 4,
   "id": "b5b5f8db",
   "metadata": {},
   "outputs": [
    {
     "data": {
      "text/markdown": [
       "### ❓ Question\n",
       "Explain the bias-variance tradeoff."
      ],
      "text/plain": [
       "<IPython.core.display.Markdown object>"
      ]
     },
     "metadata": {},
     "output_type": "display_data"
    },
    {
     "data": {
      "text/plain": [
       "'Explain the bias-variance tradeoff.'"
      ]
     },
     "execution_count": 4,
     "metadata": {},
     "output_type": "execute_result"
    }
   ],
   "source": [
    "practice.get_question(1)"
   ]
  },
  {
   "cell_type": "code",
   "execution_count": 9,
   "id": "becd2f67",
   "metadata": {},
   "outputs": [],
   "source": [
    "answer = \"\"\"\n",
    "The bias-variance tradeoff measures how overfit or underfit a model is. \n",
    "High bias means the model misses important patterns\n",
    "High variance means the model is overly sensitive to noise patterns in the data.\n",
    "\"\"\""
   ]
  },
  {
   "cell_type": "code",
   "execution_count": 10,
   "id": "afbf9f40",
   "metadata": {},
   "outputs": [
    {
     "data": {
      "text/markdown": [
       "### 📝 Your Answer\n",
       "\n",
       "The bias-variance tradeoff measures how overfit or underfit a model is. \n",
       "High bias means the model misses important patterns\n",
       "High variance means the model is overly sensitive to noise patterns in the data.\n"
      ],
      "text/plain": [
       "<IPython.core.display.Markdown object>"
      ]
     },
     "metadata": {},
     "output_type": "display_data"
    },
    {
     "data": {
      "text/markdown": [
       "### ✅ Reference Answer\n",
       "Bias is error from assumptions, variance is error from sensitivity to data. The tradeoff balances underfitting and overfitting."
      ],
      "text/plain": [
       "<IPython.core.display.Markdown object>"
      ]
     },
     "metadata": {},
     "output_type": "display_data"
    },
    {
     "data": {
      "text/markdown": [
       "**Category:** ML"
      ],
      "text/plain": [
       "<IPython.core.display.Markdown object>"
      ]
     },
     "metadata": {},
     "output_type": "display_data"
    },
    {
     "data": {
      "text/markdown": [
       "**Semantic similarity score:** 0.81"
      ],
      "text/plain": [
       "<IPython.core.display.Markdown object>"
      ]
     },
     "metadata": {},
     "output_type": "display_data"
    },
    {
     "data": {
      "text/markdown": [
       "**Result:** ✔️ Correct"
      ],
      "text/plain": [
       "<IPython.core.display.Markdown object>"
      ]
     },
     "metadata": {},
     "output_type": "display_data"
    },
    {
     "data": {
      "text/plain": [
       "(True, 0.8065162301063538)"
      ]
     },
     "execution_count": 10,
     "metadata": {},
     "output_type": "execute_result"
    }
   ],
   "source": [
    "practice.check_answer(answer)"
   ]
  }
 ],
 "metadata": {
  "kernelspec": {
   "display_name": "ds-practice",
   "language": "python",
   "name": "ds-practice"
  },
  "language_info": {
   "codemirror_mode": {
    "name": "ipython",
    "version": 3
   },
   "file_extension": ".py",
   "mimetype": "text/x-python",
   "name": "python",
   "nbconvert_exporter": "python",
   "pygments_lexer": "ipython3",
   "version": "3.13.7"
  }
 },
 "nbformat": 4,
 "nbformat_minor": 5
}
