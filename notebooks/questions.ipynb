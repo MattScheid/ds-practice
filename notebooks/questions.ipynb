{
 "cells": [
  {
   "cell_type": "markdown",
   "id": "28df7a7c",
   "metadata": {},
   "source": [
    "# Add New Interview Questions\n",
    "\n",
    "This notebook is for **building and maintaining your interview question bank** stored in `data/questions.json`.  \n",
    "\n",
    "Use this notebook whenever you want to add new questions, update answers, or assign categories.  \n",
    "Your changes will persist across sessions because the bank is stored in JSON.\n",
    "\n",
    "---\n",
    "\n",
    "### How to Use\n",
    "\n",
    "1. **Initialize the class and load the existing bank**\n",
    "   ```python\n",
    "   from src.interview_practice import InterviewPractice\n",
    "\n",
    "   practice = InterviewPractice()\n",
    "   practice.load(\"../data/questions.json\")\n",
    "   ```\n",
    "\n",
    "2. **Add question to the practice class**\n",
    "   ```python\n",
    "   practice.add_question(\n",
    "      question=\"Explain the difference between inner and outer joins in SQL.\",\n",
    "      answer=\"An inner join returns only matching rows. An outer join returns all rows from one or both tables, with NULLs where no match exists.\",\n",
    "      category=\"SQL\"\n",
    "   )\n",
    "   ```\n",
    "\n",
    "3. **Save Changes**\n",
    "   ```python\n",
    "   practice.save(\"../data/questions.json\")\n",
    "   ```"
   ]
  },
  {
   "cell_type": "code",
   "execution_count": 5,
   "id": "35a95cc4",
   "metadata": {},
   "outputs": [],
   "source": [
    "import sys, os\n",
    "sys.path.append(os.path.abspath(\"../src\"))"
   ]
  },
  {
   "cell_type": "code",
   "execution_count": 7,
   "id": "1dc8d509",
   "metadata": {},
   "outputs": [],
   "source": [
    "from interview_practice import InterviewPractice"
   ]
  },
  {
   "cell_type": "code",
   "execution_count": 8,
   "id": "cc10b289",
   "metadata": {},
   "outputs": [],
   "source": [
    "practice = InterviewPractice()\n",
    "practice.load(\"../data/questions.json\")"
   ]
  },
  {
   "cell_type": "code",
   "execution_count": 10,
   "id": "dc4ab5c8",
   "metadata": {},
   "outputs": [],
   "source": [
    "practice.add_question(\n",
    "    question=\"\"\"\n",
    "    Say you roll a die three times. What is the probability of getting two sixes in a row?\n",
    "    \"\"\", \n",
    "    answer=\"\"\"\n",
    "    There are three ways to get two 6's consecutively on 3 dice rolls. \n",
    "    The pair either happens on rolls 1 and 2, or 2 and 3, or else all three are 6's. \n",
    "    In the first case with exactly two 6's, the probability is given by:\n",
    "    2 * (1/6) * (1/6) * (5/6) = 10/216\n",
    "    In the second case, the probability of all three rolls being 6's is given by:\n",
    "    (1/6) * (1/6) * (1/6) = 1/216\n",
    "    Adding these two cases together, we get a total probability of 11/216.\n",
    "    \"\"\",\n",
    "    category=\"Probability\"\n",
    ")\n"
   ]
  },
  {
   "cell_type": "code",
   "execution_count": 11,
   "id": "77930d67",
   "metadata": {},
   "outputs": [],
   "source": [
    "practice.save(\"../data/questions.json\")"
   ]
  }
 ],
 "metadata": {
  "kernelspec": {
   "display_name": "ds-practice",
   "language": "python",
   "name": "ds-practice"
  },
  "language_info": {
   "codemirror_mode": {
    "name": "ipython",
    "version": 3
   },
   "file_extension": ".py",
   "mimetype": "text/x-python",
   "name": "python",
   "nbconvert_exporter": "python",
   "pygments_lexer": "ipython3",
   "version": "3.13.7"
  }
 },
 "nbformat": 4,
 "nbformat_minor": 5
}
